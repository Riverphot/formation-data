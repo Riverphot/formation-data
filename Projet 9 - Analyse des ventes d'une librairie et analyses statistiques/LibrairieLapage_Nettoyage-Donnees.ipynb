{
 "cells": [
  {
   "cell_type": "markdown",
   "id": "8941eda4",
   "metadata": {},
   "source": [
    "<div style=\"background-color:#0C2E59;\" >\n",
    "<p style=\"margin: auto; padding: 20px; text-align:center;color:#fff;font-size:22px; \">ANALYSE DES VENTES : LIBRAIRIE LAPAGE\n",
    "    <br/>~ Nettoyage des données ~</p>\n",
    "</div>"
   ]
  },
  {
   "cell_type": "markdown",
   "id": "74e0d538",
   "metadata": {},
   "source": [
    "<div style=\"background:#FFEEDA;padding:10px;\">\n",
    " <p> <strong>OBJECTIF DE CE NOTEBOOK :\n",
    "<br/>Nettoyez les données de la librairie Lapage en vu de réaliser des analyses sur les différents indicateurs de vente.</strong>\n",
    "    </p>\n",
    "<p>Pour plus de clarté les analyses et tests statistiques seront traitées dans un autre notebook.</p>\n",
    "    <p>Notebook avec les analyses : <a href=\"./RIVIERE_Aurelie_2_Notebook-Analyses_012025.ipynb\" target=\"_blank\">Notebook Analyses</a>\n",
    "</p>\n",
    "</div>"
   ]
  },
  {
   "cell_type": "markdown",
   "id": "f29ea591",
   "metadata": {},
   "source": [
    "<div style=\"background-color:#638BC9;\" >\n",
    "<h2 style=\"margin: auto; padding: 20px; color:#fff; \">Étape 1 - Importation des librairies et chargement des fichiers</h2>\n",
    "</div>"
   ]
  },
  {
   "cell_type": "markdown",
   "id": "5c624e5c",
   "metadata": {},
   "source": [
    "<div style=\"background:#C0DFF4;\" >\n",
    "<h3 style=\"margin: auto; padding: 20px; color: #0D2E63; \">1.1 - Importation des librairies</h3>\n",
    "</div>"
   ]
  },
  {
   "cell_type": "code",
   "execution_count": 2,
   "id": "cced10a2",
   "metadata": {},
   "outputs": [],
   "source": [
    "#Importation de la librairie Pandas\n",
    "import pandas as pd\n",
    "\n",
    "#Importation de la librairie Numpy\n",
    "import numpy as np\n",
    "\n",
    "#Importation de la librairie matplotlib pour afficher des graphiques\n",
    "import matplotlib.pyplot as plt "
   ]
  },
  {
   "cell_type": "code",
   "execution_count": 3,
   "id": "23c839a0-6a8f-48e5-848f-a8da6356377c",
   "metadata": {},
   "outputs": [],
   "source": [
    "#Importation de la librairie Tabulate\n",
    "#Bibliothèque permettant l'affichage sous forme de tableau\n",
    "from tabulate import tabulate"
   ]
  },
  {
   "cell_type": "code",
   "execution_count": 4,
   "id": "af0b15e9-437e-4252-ac75-aff8978ee063",
   "metadata": {},
   "outputs": [],
   "source": [
    "#Librairie permettant le traitement des expressions régulières\n",
    "import re"
   ]
  },
  {
   "cell_type": "markdown",
   "id": "48a1a8dd",
   "metadata": {},
   "source": [
    "<div style=\"background:#C0DFF4;\" >\n",
    "<h3 style=\"margin: auto; padding: 20px; color: #0D2E63; \">1.2 - Chargement des fichiers</h3>\n",
    "</div>"
   ]
  },
  {
   "cell_type": "code",
   "execution_count": 5,
   "id": "54582e91",
   "metadata": {},
   "outputs": [],
   "source": [
    "#Importation du fichier Clients\n",
    "df_customers = pd.read_csv(\"data/customers.csv\")\n",
    "\n",
    "#Importation du fichier Produits\n",
    "df_products = pd.read_csv(\"data/products.csv\")\n",
    "\n",
    "#Importation du fichier Transactions\n",
    "df_transactions = pd.read_csv(\"data/transactions.csv\")"
   ]
  },
  {
   "cell_type": "markdown",
   "id": "a2f9da0d",
   "metadata": {},
   "source": [
    "<div style=\"background-color:#638BC9;\" >\n",
    "<h2 style=\"margin: auto; padding: 20px; color:#fff; \">Étape 2 - Analyse Exploratoire des fichiers</h2>\n",
    "</div>"
   ]
  },
  {
   "cell_type": "code",
   "execution_count": 6,
   "id": "982a54e6-0aae-43cf-9638-637cdef732a1",
   "metadata": {},
   "outputs": [],
   "source": [
    "#Fonction d'analyse exploratoire des fichiers\n",
    "def analyze_columns(df):\n",
    "    analysis = pd.DataFrame({\n",
    "        \"Type\": df.dtypes,  # Type de données\n",
    "        \"Nombre de Lignes\": len(df),  # Nombre total de lignes\n",
    "        \"Valeurs Manquantes\": df.isnull().sum(),  # Nombre de valeurs manquantes\n",
    "        \"Unique\": [(df[col].value_counts() == 1).sum() for col in df.columns],# Compte les valeurs apparaissant exactement une fois\n",
    "        \"Distinct\": [df[col].nunique(dropna=True) for col in df.columns], # Compte les valeurs distinctes sans inclure les NaN\n",
    "        \"Min\": [df[col].dropna().min() for col in df.columns],# Min : Première valeur dans un ordre trié, en ignorant les NaN\n",
    "        \"Max\": [df[col].dropna().max() for col in df.columns]# Max : Dernière valeur dans un ordre trié, en ignorant les NaN\n",
    "    })\n",
    "\n",
    "    # Conversion en tableau formaté\n",
    "    formatted_table = tabulate(analysis.T, headers=\"keys\", tablefmt=\"fancy_grid\")\n",
    "    return formatted_table"
   ]
  },
  {
   "cell_type": "markdown",
   "id": "37056204",
   "metadata": {},
   "source": [
    "<div style=\"background:#C0DFF4;\" >\n",
    "<h3 style=\"margin: auto; padding: 20px; color: #0D2E63; \">2.1 - Analyse exploratoire du fichier Clients</h3>\n",
    "</div>"
   ]
  },
  {
   "cell_type": "code",
   "execution_count": 7,
   "id": "13664ca0-d519-4d70-a9b9-7b54b658738b",
   "metadata": {},
   "outputs": [
    {
     "data": {
      "text/html": [
       "<div>\n",
       "<style scoped>\n",
       "    .dataframe tbody tr th:only-of-type {\n",
       "        vertical-align: middle;\n",
       "    }\n",
       "\n",
       "    .dataframe tbody tr th {\n",
       "        vertical-align: top;\n",
       "    }\n",
       "\n",
       "    .dataframe thead th {\n",
       "        text-align: right;\n",
       "    }\n",
       "</style>\n",
       "<table border=\"1\" class=\"dataframe\">\n",
       "  <thead>\n",
       "    <tr style=\"text-align: right;\">\n",
       "      <th></th>\n",
       "      <th>client_id</th>\n",
       "      <th>sex</th>\n",
       "      <th>birth</th>\n",
       "    </tr>\n",
       "  </thead>\n",
       "  <tbody>\n",
       "    <tr>\n",
       "      <th>0</th>\n",
       "      <td>c_4410</td>\n",
       "      <td>f</td>\n",
       "      <td>1967</td>\n",
       "    </tr>\n",
       "    <tr>\n",
       "      <th>1</th>\n",
       "      <td>c_7839</td>\n",
       "      <td>f</td>\n",
       "      <td>1975</td>\n",
       "    </tr>\n",
       "    <tr>\n",
       "      <th>2</th>\n",
       "      <td>c_1699</td>\n",
       "      <td>f</td>\n",
       "      <td>1984</td>\n",
       "    </tr>\n",
       "    <tr>\n",
       "      <th>3</th>\n",
       "      <td>c_5961</td>\n",
       "      <td>f</td>\n",
       "      <td>1962</td>\n",
       "    </tr>\n",
       "    <tr>\n",
       "      <th>4</th>\n",
       "      <td>c_5320</td>\n",
       "      <td>m</td>\n",
       "      <td>1943</td>\n",
       "    </tr>\n",
       "  </tbody>\n",
       "</table>\n",
       "</div>"
      ],
      "text/plain": [
       "  client_id sex  birth\n",
       "0    c_4410   f   1967\n",
       "1    c_7839   f   1975\n",
       "2    c_1699   f   1984\n",
       "3    c_5961   f   1962\n",
       "4    c_5320   m   1943"
      ]
     },
     "execution_count": 7,
     "metadata": {},
     "output_type": "execute_result"
    }
   ],
   "source": [
    "#Afficher les 5 premières lignes du dataframe\n",
    "df_customers.head()"
   ]
  },
  {
   "cell_type": "code",
   "execution_count": 8,
   "id": "e52f2df7-d45f-4b9d-a95c-ce43b4737a83",
   "metadata": {},
   "outputs": [
    {
     "name": "stdout",
     "output_type": "stream",
     "text": [
      "Le tableau comporte 8623 observation(s) ou ligne(s)\n",
      "Le tableau comporte 3 colonne(s)\n",
      "╒════════════════════╤═════════════╤════════╤═════════╕\n",
      "│                    │ client_id   │ sex    │ birth   │\n",
      "╞════════════════════╪═════════════╪════════╪═════════╡\n",
      "│ Type               │ object      │ object │ int64   │\n",
      "├────────────────────┼─────────────┼────────┼─────────┤\n",
      "│ Nombre de Lignes   │ 8623        │ 8623   │ 8623    │\n",
      "├────────────────────┼─────────────┼────────┼─────────┤\n",
      "│ Valeurs Manquantes │ 0           │ 0      │ 0       │\n",
      "├────────────────────┼─────────────┼────────┼─────────┤\n",
      "│ Unique             │ 8623        │ 0      │ 0       │\n",
      "├────────────────────┼─────────────┼────────┼─────────┤\n",
      "│ Distinct           │ 8623        │ 2      │ 76      │\n",
      "├────────────────────┼─────────────┼────────┼─────────┤\n",
      "│ Min                │ c_1         │ f      │ 1929    │\n",
      "├────────────────────┼─────────────┼────────┼─────────┤\n",
      "│ Max                │ ct_1        │ m      │ 2004    │\n",
      "╘════════════════════╧═════════════╧════════╧═════════╛\n"
     ]
    }
   ],
   "source": [
    "#Afficher les dimensions du dataset\n",
    "print(\"Le tableau comporte {} observation(s) ou ligne(s)\".format(df_customers.shape[0]))\n",
    "print(\"Le tableau comporte {} colonne(s)\".format(df_customers.shape[1]))\n",
    "\n",
    "# Applique la fonction d'analyse et affiche les résultats\n",
    "result = analyze_columns(df_customers)\n",
    "print(result)"
   ]
  },
  {
   "cell_type": "code",
   "execution_count": 9,
   "id": "0fff42dd-3770-450a-87f2-52faa371058e",
   "metadata": {},
   "outputs": [
    {
     "name": "stdout",
     "output_type": "stream",
     "text": [
      "### Aperçu des données triées ###\n",
      "5 premières lignes :\n",
      "['c_1', 'c_10', 'c_100', 'c_1000', 'c_1001']\n",
      "5 dernières lignes :\n",
      "['c_997', 'c_998', 'c_999', 'ct_0', 'ct_1'] \n",
      "\n",
      "### Structures les plus fréquentes ###\n",
      "c_9999: 7622\n",
      "c_999: 900\n",
      "c_99: 90\n",
      "c_9: 9\n",
      "ct_9: 2\n",
      "\n",
      "### Structures rares (potentielles anomalies) ###\n",
      "ct_9: 2\n",
      "\n",
      "Liste des anomalies détectées : ['ct_0', 'ct_1']\n"
     ]
    }
   ],
   "source": [
    "def analyze_identifier_structures_with_anomalies(column, max_examples=5):\n",
    "\n",
    "    # Convertir toutes les valeurs en chaîne pour éviter les erreurs\n",
    "    column = column.dropna().astype(str)\n",
    "\n",
    "    # Trier les valeurs par ordre alphabétique\n",
    "    column_sorted = column.sort_values()\n",
    "\n",
    "    # Afficher un aperçu des 5 premières et 5 dernières lignes\n",
    "    print(\"### Aperçu des données triées ###\")\n",
    "    print(\"5 premières lignes :\")\n",
    "    print(column_sorted.head(5).to_list())  # Conversion en liste pour un affichage plus propre\n",
    "    print(\"5 dernières lignes :\")\n",
    "    print(column_sorted.tail(5).to_list(), \"\\n\")\n",
    "\n",
    "    # Remplacer tous les chiffres par \"9\" pour révéler les structures\n",
    "    structures = column.apply(lambda x: re.sub(r'\\d', '9', x))\n",
    "\n",
    "    # Compter les occurrences des structures\n",
    "    structure_counts = structures.value_counts()\n",
    "\n",
    "    # Afficher les structures les plus fréquentes\n",
    "    print(\"### Structures les plus fréquentes ###\")\n",
    "    for structure, count in structure_counts.head(max_examples).items():\n",
    "        print(f\"{structure}: {count}\")\n",
    "    print()\n",
    "\n",
    "    # Identifier les structures rares (moins de 5 occurrences)\n",
    "    rare_structures = structure_counts[structure_counts < 5]\n",
    "\n",
    "    anomaliesclients = []\n",
    "    if not rare_structures.empty:\n",
    "        print(\"### Structures rares (potentielles anomalies) ###\")\n",
    "        for structure, count in rare_structures.items():\n",
    "            print(f\"{structure}: {count}\")\n",
    "            # Ajouter les identifiants correspondant à cette structure rare\n",
    "            anomaliesclients.extend(column[structures == structure].tolist())\n",
    "        print()\n",
    "    else:\n",
    "        print(\"Aucune structure rare détectée.\\n\")\n",
    "\n",
    "    # Retourner les anomalies pour vérification manuelle\n",
    "    return anomaliesclients\n",
    "\n",
    "# Application de l'analyse\n",
    "if 'client_id' in df_customers.columns:\n",
    "    # Identifier les anomalies et les stocker dans une liste\n",
    "    anomaliesclients = analyze_identifier_structures_with_anomalies(df_customers['client_id'])\n",
    "    print(\"Liste des anomalies détectées :\", anomaliesclients)\n",
    "\n",
    "else:\n",
    "    print(\"La colonne 'client_id' n'existe pas dans df_products.\")"
   ]
  },
  {
   "cell_type": "markdown",
   "id": "30225c43-4116-4e45-9cee-60d033df36fb",
   "metadata": {},
   "source": [
    "<div style=\"background:#FFEEDA;padding:10px;\">\n",
    "  <strong>L&apos;analyse du fichier client montre qu&apos;il n&apos;y a pas d&apos;erreur sur ce fichier.</strong>\n",
    "  <ul>\n",
    "      <li>Il n&apos;y a pas de doublons dans les id clients et pas de valeurs manquantes.</strong>\n",
    "      <li>Le colonne des sexes n&apos;a pas de valeurs manquantes et contient uniquement l&apos;info f ou m.</li>\n",
    "      <li>La colonne d&apos;année de naissance n&apos;a pas de valeurs manquantes et les années vont de 1929 à 2004. <strong>On pourrait s&apos;intéroger sur la valeur extrème 1929, qui semble être un outliers (client de près de 100 ans), cependant cela n&apos;exclue pas la possibité que cette valeur soient juste.</strong></li>\n",
    "      <li>Il y a cependant deux clients avec une sturcture anormale CT, qui correspond à client Test</li>\n",
    "  </ul>\n",
    "</div>"
   ]
  },
  {
   "cell_type": "code",
   "execution_count": 10,
   "id": "03daa9e6-a26f-4296-bd2f-e89d193e0d00",
   "metadata": {},
   "outputs": [],
   "source": [
    "#Nettoyage des clients test\n",
    "df_customers = df_customers[~df_customers['client_id'].isin(anomaliesclients)]"
   ]
  },
  {
   "cell_type": "code",
   "execution_count": 11,
   "id": "025dff82-27bb-4a0c-8e86-fa0e4c64b85b",
   "metadata": {},
   "outputs": [
    {
     "name": "stdout",
     "output_type": "stream",
     "text": [
      "Le tableau comporte 8621 observation(s) ou ligne(s)\n"
     ]
    }
   ],
   "source": [
    "print(\"Le tableau comporte {} observation(s) ou ligne(s)\".format(df_customers.shape[0]))"
   ]
  },
  {
   "cell_type": "markdown",
   "id": "f353b032",
   "metadata": {},
   "source": [
    "<div style=\"background:#C0DFF4;\" >\n",
    "<h3 style=\"margin: auto; padding: 20px; color: #0D2E63; \">2.2 - Analyse exploratoire du fichier Produits</h3>\n",
    "</div>"
   ]
  },
  {
   "cell_type": "code",
   "execution_count": 12,
   "id": "bf6dba56",
   "metadata": {},
   "outputs": [
    {
     "data": {
      "text/html": [
       "<div>\n",
       "<style scoped>\n",
       "    .dataframe tbody tr th:only-of-type {\n",
       "        vertical-align: middle;\n",
       "    }\n",
       "\n",
       "    .dataframe tbody tr th {\n",
       "        vertical-align: top;\n",
       "    }\n",
       "\n",
       "    .dataframe thead th {\n",
       "        text-align: right;\n",
       "    }\n",
       "</style>\n",
       "<table border=\"1\" class=\"dataframe\">\n",
       "  <thead>\n",
       "    <tr style=\"text-align: right;\">\n",
       "      <th></th>\n",
       "      <th>id_prod</th>\n",
       "      <th>price</th>\n",
       "      <th>categ</th>\n",
       "    </tr>\n",
       "  </thead>\n",
       "  <tbody>\n",
       "    <tr>\n",
       "      <th>0</th>\n",
       "      <td>0_1421</td>\n",
       "      <td>19.99</td>\n",
       "      <td>0</td>\n",
       "    </tr>\n",
       "    <tr>\n",
       "      <th>1</th>\n",
       "      <td>0_1368</td>\n",
       "      <td>5.13</td>\n",
       "      <td>0</td>\n",
       "    </tr>\n",
       "    <tr>\n",
       "      <th>2</th>\n",
       "      <td>0_731</td>\n",
       "      <td>17.99</td>\n",
       "      <td>0</td>\n",
       "    </tr>\n",
       "    <tr>\n",
       "      <th>3</th>\n",
       "      <td>1_587</td>\n",
       "      <td>4.99</td>\n",
       "      <td>1</td>\n",
       "    </tr>\n",
       "    <tr>\n",
       "      <th>4</th>\n",
       "      <td>0_1507</td>\n",
       "      <td>3.99</td>\n",
       "      <td>0</td>\n",
       "    </tr>\n",
       "  </tbody>\n",
       "</table>\n",
       "</div>"
      ],
      "text/plain": [
       "  id_prod  price  categ\n",
       "0  0_1421  19.99      0\n",
       "1  0_1368   5.13      0\n",
       "2   0_731  17.99      0\n",
       "3   1_587   4.99      1\n",
       "4  0_1507   3.99      0"
      ]
     },
     "execution_count": 12,
     "metadata": {},
     "output_type": "execute_result"
    }
   ],
   "source": [
    "#Afficher les 5 premières lignes du dataframe\n",
    "df_products.head()"
   ]
  },
  {
   "cell_type": "code",
   "execution_count": 13,
   "id": "b295339f-c757-4028-b84b-de3606bf1dbb",
   "metadata": {},
   "outputs": [
    {
     "name": "stdout",
     "output_type": "stream",
     "text": [
      "Le tableau comporte 3287 observation(s) ou ligne(s)\n",
      "Le tableau comporte 3 colonne(s)\n",
      "╒════════════════════╤═══════════╤═════════╤═════════╕\n",
      "│                    │ id_prod   │ price   │ categ   │\n",
      "╞════════════════════╪═══════════╪═════════╪═════════╡\n",
      "│ Type               │ object    │ float64 │ int64   │\n",
      "├────────────────────┼───────────┼─────────┼─────────┤\n",
      "│ Nombre de Lignes   │ 3287      │ 3287    │ 3287    │\n",
      "├────────────────────┼───────────┼─────────┼─────────┤\n",
      "│ Valeurs Manquantes │ 0         │ 0       │ 0       │\n",
      "├────────────────────┼───────────┼─────────┼─────────┤\n",
      "│ Unique             │ 3287      │ 1111    │ 0       │\n",
      "├────────────────────┼───────────┼─────────┼─────────┤\n",
      "│ Distinct           │ 3287      │ 1455    │ 3       │\n",
      "├────────────────────┼───────────┼─────────┼─────────┤\n",
      "│ Min                │ 0_0       │ -1.0    │ 0       │\n",
      "├────────────────────┼───────────┼─────────┼─────────┤\n",
      "│ Max                │ T_0       │ 300.0   │ 2       │\n",
      "╘════════════════════╧═══════════╧═════════╧═════════╛\n"
     ]
    }
   ],
   "source": [
    "#Afficher les dimensions du dataset\n",
    "print(\"Le tableau comporte {} observation(s) ou ligne(s)\".format(df_products.shape[0]))\n",
    "print(\"Le tableau comporte {} colonne(s)\".format(df_products.shape[1]))\n",
    "\n",
    "# Applique la fonction d'analyse et affiche les résultats\n",
    "result = analyze_columns(df_products)\n",
    "print(result)"
   ]
  },
  {
   "cell_type": "markdown",
   "id": "a7a58376-9a0d-4c83-8c32-8c666726bd0f",
   "metadata": {},
   "source": [
    "<div style=\"background:#FFEEDA;padding:10px;\">\n",
    "  <strong>L&apos;analyse du fichier Produits nous permet d'observer :</strong>\n",
    "  <ul>\n",
    "      <li>Il n&apos;y a pas de doublons dans les id produits et pas de valeurs manquantes.<strong> On observe dans les valeurs min et max des structures significativement différentes, il serait intéressant de vérifier les stuctures d'identifiant.</strong></li>\n",
    "      <li>Les catégories de produits sonta au nombre de 3, il n'y a pas de valeur manquantes ou données abérantes</li>\n",
    "      <li>La colonne de prix n'a pas de valeurs manquantes.<strong> On note cependant la préscence de prix en négatif, ce point est à approfoncir.</strong></li>\n",
    "  </ul>\n",
    "</div>"
   ]
  },
  {
   "cell_type": "markdown",
   "id": "c98cfbc6-cae5-4d98-bece-daf7157bd7f3",
   "metadata": {},
   "source": [
    "<div style=\"border: 1px solid #5F8BC8;\" >\n",
    "<h4 style=\"margin: auto; padding: 20px; color: #5F8BC8; \">2.2.1 - Analyse des identifiants produits</h4>\n",
    "</div>"
   ]
  },
  {
   "cell_type": "code",
   "execution_count": 14,
   "id": "9b996185-7586-48ec-8d17-b3b49862d764",
   "metadata": {},
   "outputs": [
    {
     "name": "stdout",
     "output_type": "stream",
     "text": [
      "### Aperçu des données triées ###\n",
      "5 premières lignes :\n",
      "['0_0', '0_1', '0_10', '0_100', '0_1000']\n",
      "5 dernières lignes :\n",
      "['2_96', '2_97', '2_98', '2_99', 'T_0'] \n",
      "\n",
      "### Structures les plus fréquentes ###\n",
      "9_999: 1678\n",
      "9_9999: 1308\n",
      "9_99: 270\n",
      "9_9: 30\n",
      "T_9: 1\n",
      "\n",
      "### Structures rares (potentielles anomalies) ###\n",
      "T_9: 1\n",
      "\n",
      "Liste des anomalies détectées : ['T_0']\n"
     ]
    }
   ],
   "source": [
    "def analyze_identifier_structures_with_anomalies(column, max_examples=5):\n",
    "\n",
    "    # Convertir toutes les valeurs en chaîne pour éviter les erreurs\n",
    "    column = column.dropna().astype(str)\n",
    "\n",
    "    # Trier les valeurs par ordre alphabétique\n",
    "    column_sorted = column.sort_values()\n",
    "\n",
    "    # Afficher un aperçu des 5 premières et 5 dernières lignes\n",
    "    print(\"### Aperçu des données triées ###\")\n",
    "    print(\"5 premières lignes :\")\n",
    "    print(column_sorted.head(5).to_list())  # Conversion en liste pour un affichage plus propre\n",
    "    print(\"5 dernières lignes :\")\n",
    "    print(column_sorted.tail(5).to_list(), \"\\n\")\n",
    "\n",
    "    # Remplacer tous les chiffres par \"9\" pour révéler les structures\n",
    "    structures = column.apply(lambda x: re.sub(r'\\d', '9', x))\n",
    "\n",
    "    # Compter les occurrences des structures\n",
    "    structure_counts = structures.value_counts()\n",
    "\n",
    "    # Afficher les structures les plus fréquentes\n",
    "    print(\"### Structures les plus fréquentes ###\")\n",
    "    for structure, count in structure_counts.head(max_examples).items():\n",
    "        print(f\"{structure}: {count}\")\n",
    "    print()\n",
    "\n",
    "    # Identifier les structures rares (moins de 2 occurrences)\n",
    "    rare_structures = structure_counts[structure_counts < 2]\n",
    "\n",
    "    anomalies = []\n",
    "    if not rare_structures.empty:\n",
    "        print(\"### Structures rares (potentielles anomalies) ###\")\n",
    "        for structure, count in rare_structures.items():\n",
    "            print(f\"{structure}: {count}\")\n",
    "            # Ajouter les identifiants correspondant à cette structure rare\n",
    "            anomalies.extend(column[structures == structure].tolist())\n",
    "        print()\n",
    "    else:\n",
    "        print(\"Aucune structure rare détectée.\\n\")\n",
    "\n",
    "    # Retourner les anomalies pour vérification manuelle\n",
    "    return anomalies\n",
    "\n",
    "# Application de l'analyse\n",
    "if 'id_prod' in df_products.columns:\n",
    "    # Identifier les anomalies et les stocker dans une liste\n",
    "    anomalies = analyze_identifier_structures_with_anomalies(df_products['id_prod'])\n",
    "    print(\"Liste des anomalies détectées :\", anomalies)\n",
    "\n",
    "else:\n",
    "    print(\"La colonne 'id_prod' n'existe pas dans df_products.\")"
   ]
  },
  {
   "cell_type": "markdown",
   "id": "bfb31b22-c7f9-4b27-826d-afccffeb108c",
   "metadata": {},
   "source": [
    "<div style=\"border: 1px solid #5F8BC8;\" >\n",
    "<h4 style=\"margin: auto; padding: 20px; color: #5F8BC8; \">2.2.2 - Analyse complémentaire des prix Produits</h4>\n",
    "</div>"
   ]
  },
  {
   "cell_type": "code",
   "execution_count": 15,
   "id": "fc68368a-30a1-47fa-81f9-21d551ae2211",
   "metadata": {},
   "outputs": [
    {
     "name": "stdout",
     "output_type": "stream",
     "text": [
      "Nombres d'article avec un prix non renseignés: 0\n",
      "Prix minimum :  -1.0\n",
      "Prix maximum :  300.0\n",
      "\n",
      "\n",
      "Articles avec des prix négatifs :\n",
      "+-----+-----------+---------+\n",
      "|     | id_prod   |   price |\n",
      "+=====+===========+=========+\n",
      "| 731 | T_0       |      -1 |\n",
      "+-----+-----------+---------+\n"
     ]
    }
   ],
   "source": [
    "#Vérification des prix: Y a t-il des prix non renseignés, négatif ou nul?\n",
    "#Afficher le ou les prix non renseignés dans la colonne \"price\"\n",
    "print(\"Nombres d'article avec un prix non renseignés: {}\".format(df_products['price'].isnull().sum()))\n",
    "#Afficher le prix minimum de la colonne \"price\"\n",
    "print('Prix minimum : ', df_products['price'].min())\n",
    "#Afficher le prix maximum de la colonne \"price\"\n",
    "print('Prix maximum : ', df_products['price'].max())\n",
    "print(\"\\n\")\n",
    "#Affichier les prix inférieurs à 0 (qu'est ce qu'il faut en faire ?)\n",
    "prix_negatifs = df_products[df_products['price'] < 0][['id_prod', 'price']]\n",
    "print(\"Articles avec des prix négatifs :\")\n",
    "print(tabulate(prix_negatifs, headers='keys', tablefmt='grid'))\n"
   ]
  },
  {
   "cell_type": "markdown",
   "id": "721ed0e8-b264-4792-98e5-1bf474f36407",
   "metadata": {},
   "source": [
    "<div style=\"background:#FFEEDA;padding:10px;\">\n",
    "  <strong>Ces analyses complémentaires ont permis d'observer :</strong>\n",
    "  <ul>\n",
    "      <li>Un identifiant produit dont la stucture ne respecte pas la stucture habituelle</li>\n",
    "      <li>Un prix présent en négatif. On notera d'ailleur que ce prix en négatif et celui de l'identifiant produit en anomalie.</li>\n",
    "  </ul>\n",
    "    <strong>Cette ligne doit donc être supprimée avant analyse.</strong>\n",
    "</div>"
   ]
  },
  {
   "cell_type": "markdown",
   "id": "abba88b3-82bb-4886-8d5d-ba28f66b02a7",
   "metadata": {},
   "source": [
    "<div style=\"border: 1px solid #5F8BC8;\" >\n",
    "<h4 style=\"margin: auto; padding: 20px; color: #5F8BC8; \">2.2.3 - Nettoyage du fichier Produits</h4>\n",
    "</div>"
   ]
  },
  {
   "cell_type": "code",
   "execution_count": 16,
   "id": "8b037738-fc24-4940-a03f-0c2cdb8fa4e6",
   "metadata": {},
   "outputs": [],
   "source": [
    "#Suppression des données en anomalies\n",
    "df_products = df_products[~df_products['id_prod'].isin(anomalies)]"
   ]
  },
  {
   "cell_type": "code",
   "execution_count": 17,
   "id": "49f31246-e762-496f-8ede-1a24f23e722e",
   "metadata": {},
   "outputs": [
    {
     "name": "stdout",
     "output_type": "stream",
     "text": [
      "Le tableau comporte 3286 observation(s) ou ligne(s)\n",
      "Le tableau comporte 3 colonne(s)\n"
     ]
    }
   ],
   "source": [
    "#Afficher les dimensions du dataset\n",
    "print(\"Le tableau comporte {} observation(s) ou ligne(s)\".format(df_products.shape[0]))\n",
    "print(\"Le tableau comporte {} colonne(s)\".format(df_products.shape[1]))"
   ]
  },
  {
   "cell_type": "markdown",
   "id": "a70fa71b",
   "metadata": {},
   "source": [
    "<div style=\"background:#C0DFF4;\" >\n",
    "<h3 style=\"margin: auto; padding: 20px; color: #0D2E63; \">2.3 - Analyse exploratoire du fichier Transaction</h3>\n",
    "</div>"
   ]
  },
  {
   "cell_type": "code",
   "execution_count": 18,
   "id": "05792dcc",
   "metadata": {},
   "outputs": [
    {
     "data": {
      "text/html": [
       "<div>\n",
       "<style scoped>\n",
       "    .dataframe tbody tr th:only-of-type {\n",
       "        vertical-align: middle;\n",
       "    }\n",
       "\n",
       "    .dataframe tbody tr th {\n",
       "        vertical-align: top;\n",
       "    }\n",
       "\n",
       "    .dataframe thead th {\n",
       "        text-align: right;\n",
       "    }\n",
       "</style>\n",
       "<table border=\"1\" class=\"dataframe\">\n",
       "  <thead>\n",
       "    <tr style=\"text-align: right;\">\n",
       "      <th></th>\n",
       "      <th>id_prod</th>\n",
       "      <th>date</th>\n",
       "      <th>session_id</th>\n",
       "      <th>client_id</th>\n",
       "    </tr>\n",
       "  </thead>\n",
       "  <tbody>\n",
       "    <tr>\n",
       "      <th>0</th>\n",
       "      <td>0_1518</td>\n",
       "      <td>2022-05-20 13:21:29.043970</td>\n",
       "      <td>s_211425</td>\n",
       "      <td>c_103</td>\n",
       "    </tr>\n",
       "    <tr>\n",
       "      <th>1</th>\n",
       "      <td>1_251</td>\n",
       "      <td>2022-02-02 07:55:19.149409</td>\n",
       "      <td>s_158752</td>\n",
       "      <td>c_8534</td>\n",
       "    </tr>\n",
       "    <tr>\n",
       "      <th>2</th>\n",
       "      <td>0_1277</td>\n",
       "      <td>2022-06-18 15:44:33.155329</td>\n",
       "      <td>s_225667</td>\n",
       "      <td>c_6714</td>\n",
       "    </tr>\n",
       "    <tr>\n",
       "      <th>3</th>\n",
       "      <td>2_209</td>\n",
       "      <td>2021-06-24 04:19:29.835891</td>\n",
       "      <td>s_52962</td>\n",
       "      <td>c_6941</td>\n",
       "    </tr>\n",
       "    <tr>\n",
       "      <th>4</th>\n",
       "      <td>0_1509</td>\n",
       "      <td>2023-01-11 08:22:08.194479</td>\n",
       "      <td>s_325227</td>\n",
       "      <td>c_4232</td>\n",
       "    </tr>\n",
       "  </tbody>\n",
       "</table>\n",
       "</div>"
      ],
      "text/plain": [
       "  id_prod                        date session_id client_id\n",
       "0  0_1518  2022-05-20 13:21:29.043970   s_211425     c_103\n",
       "1   1_251  2022-02-02 07:55:19.149409   s_158752    c_8534\n",
       "2  0_1277  2022-06-18 15:44:33.155329   s_225667    c_6714\n",
       "3   2_209  2021-06-24 04:19:29.835891    s_52962    c_6941\n",
       "4  0_1509  2023-01-11 08:22:08.194479   s_325227    c_4232"
      ]
     },
     "execution_count": 18,
     "metadata": {},
     "output_type": "execute_result"
    }
   ],
   "source": [
    "#Afficher les 5 premières lignes du dataframe\n",
    "df_transactions.head()"
   ]
  },
  {
   "cell_type": "code",
   "execution_count": 19,
   "id": "51b2dd7a-e829-4731-8cfa-9372e742052d",
   "metadata": {},
   "outputs": [
    {
     "name": "stdout",
     "output_type": "stream",
     "text": [
      "Le tableau comporte 679532 observation(s) ou ligne(s)\n",
      "Le tableau comporte 4 colonne(s)\n",
      "╒════════════════════╤═══════════╤═════════════════════════════════╤══════════════╤═════════════╕\n",
      "│                    │ id_prod   │ date                            │ session_id   │ client_id   │\n",
      "╞════════════════════╪═══════════╪═════════════════════════════════╪══════════════╪═════════════╡\n",
      "│ Type               │ object    │ object                          │ object       │ object      │\n",
      "├────────────────────┼───────────┼─────────────────────────────────┼──────────────┼─────────────┤\n",
      "│ Nombre de Lignes   │ 679532    │ 679532                          │ 679532       │ 679532      │\n",
      "├────────────────────┼───────────┼─────────────────────────────────┼──────────────┼─────────────┤\n",
      "│ Valeurs Manquantes │ 0         │ 0                               │ 0            │ 0           │\n",
      "├────────────────────┼───────────┼─────────────────────────────────┼──────────────┼─────────────┤\n",
      "│ Unique             │ 18        │ 679334                          │ 163350       │ 8           │\n",
      "├────────────────────┼───────────┼─────────────────────────────────┼──────────────┼─────────────┤\n",
      "│ Distinct           │ 3267      │ 679371                          │ 342316       │ 8602        │\n",
      "├────────────────────┼───────────┼─────────────────────────────────┼──────────────┼─────────────┤\n",
      "│ Min                │ 0_0       │ 2021-03-01 00:01:07.843138      │ s_0          │ c_1         │\n",
      "├────────────────────┼───────────┼─────────────────────────────────┼──────────────┼─────────────┤\n",
      "│ Max                │ T_0       │ test_2021-03-01 02:30:02.237450 │ s_99998      │ ct_1        │\n",
      "╘════════════════════╧═══════════╧═════════════════════════════════╧══════════════╧═════════════╛\n"
     ]
    }
   ],
   "source": [
    "#Afficher les dimensions du dataset\n",
    "print(\"Le tableau comporte {} observation(s) ou ligne(s)\".format(df_transactions.shape[0]))\n",
    "print(\"Le tableau comporte {} colonne(s)\".format(df_transactions.shape[1]))\n",
    "\n",
    "# Applique la fonction d'analyse et affiche les résultats\n",
    "result = analyze_columns(df_transactions)\n",
    "print(result)"
   ]
  },
  {
   "cell_type": "markdown",
   "id": "d780f385-d569-491a-8813-264ec27c2018",
   "metadata": {},
   "source": [
    "<div style=\"background:#FFEEDA;padding:10px;\">\n",
    "  <strong>L&apos;analyse du fichier Transcations nous permet d'observer :</strong>\n",
    "  <ul>\n",
    "      <li>Il y a des doublons produits, cohérent avec la vente multiple du même produits.</li>\n",
    "      <li>Les dates des transactions semble avoir des éléments de test intégré. <strong>Ces éléments sont à nettoyer avant analyse.</strong></li>\n",
    "      <li>Les sessions n'ont pas de valeurs manquantes, il y a une répétition cohérente avec l'achat de plusieurs produits par session, et la nomenclature semble correcte.</li>\n",
    "      <li>Les identifiants clients n'ont pas de valeurs manquantes, la répatition est du à des achats multiple. <strong>Il semble y avoir une incohérence de stucture dans la nomenclature.</strong></li>\n",
    "  </ul>\n",
    "</div>"
   ]
  },
  {
   "cell_type": "markdown",
   "id": "602dfed4-d678-4051-b9b8-f18d94d8603f",
   "metadata": {},
   "source": [
    "<div style=\"border: 1px solid #5F8BC8;\" >\n",
    "<h4 style=\"margin: auto; padding: 20px; color: #5F8BC8; \">2.3.1 - Nettoyage des dates de test</h4>\n",
    "</div>"
   ]
  },
  {
   "cell_type": "code",
   "execution_count": 20,
   "id": "b0e91f12-1f48-4add-bef6-34897a0b0d24",
   "metadata": {},
   "outputs": [
    {
     "name": "stdout",
     "output_type": "stream",
     "text": [
      "Lignes avec un format de date incorrect :\n",
      "       id_prod                             date session_id client_id\n",
      "3019       T_0  test_2021-03-01 02:30:02.237419        s_0      ct_0\n",
      "5138       T_0  test_2021-03-01 02:30:02.237425        s_0      ct_0\n",
      "9668       T_0  test_2021-03-01 02:30:02.237437        s_0      ct_1\n",
      "10728      T_0  test_2021-03-01 02:30:02.237436        s_0      ct_0\n",
      "15292      T_0  test_2021-03-01 02:30:02.237430        s_0      ct_0\n",
      "...        ...                              ...        ...       ...\n",
      "657830     T_0  test_2021-03-01 02:30:02.237417        s_0      ct_0\n",
      "662081     T_0  test_2021-03-01 02:30:02.237427        s_0      ct_1\n",
      "670680     T_0  test_2021-03-01 02:30:02.237449        s_0      ct_1\n",
      "671647     T_0  test_2021-03-01 02:30:02.237424        s_0      ct_1\n",
      "679180     T_0  test_2021-03-01 02:30:02.237425        s_0      ct_1\n",
      "\n",
      "[200 rows x 4 columns]\n"
     ]
    }
   ],
   "source": [
    "def find_invalid_date_format(df, date):\n",
    "    # Définir le format attendu (YYYY-MM-DD HH:MM:SS.ssssss)\n",
    "    date_regex = r'^\\d{4}-\\d{2}-\\d{2} \\d{2}:\\d{2}:\\d{2}\\.\\d{6}$'\n",
    "\n",
    "    # Filtrer les lignes qui ne correspondent pas au format\n",
    "    invalid_rows = df[~df[date].astype(str).str.match(date_regex, na=False)]\n",
    "\n",
    "    return invalid_rows\n",
    "\n",
    "# Exemple d'utilisation avec df_transactions\n",
    "invalid_dates = find_invalid_date_format(df_transactions, 'date')\n",
    "print(\"Lignes avec un format de date incorrect :\")\n",
    "print(invalid_dates)"
   ]
  },
  {
   "cell_type": "markdown",
   "id": "73edd04a-99c9-444c-af81-c0802d0fdda5",
   "metadata": {},
   "source": [
    "<div style=\"background:#FFEEDA;padding:10px;\">\n",
    "On observe un certain nombre de dates avec la mention test. On notera également que ces tests porte sur l'id produit T_0, qui correspond à notre produit identifiant/prix en anomalie dans la base produits.<strong> Ce produit est donc bien un produit test avec des transctions test, à supprimer avant analyse.</strong>\n",
    "</div>"
   ]
  },
  {
   "cell_type": "markdown",
   "id": "dc231a80-6789-40ad-a714-10c64cfdba48",
   "metadata": {},
   "source": [
    "<div style=\"border: 1px solid #5F8BC8;\" >\n",
    "<h4 style=\"margin: auto; padding: 20px; color: #5F8BC8; \">2.3.2 - Vérification de la nomenclature des id clients</h4>\n",
    "</div>"
   ]
  },
  {
   "cell_type": "code",
   "execution_count": 21,
   "id": "1428fa8e-9b6f-4407-b48f-30fea358dff8",
   "metadata": {},
   "outputs": [
    {
     "name": "stdout",
     "output_type": "stream",
     "text": [
      "### Aperçu des données triées ###\n",
      "5 premières lignes :\n",
      "['c_1', 'c_1', 'c_1', 'c_1', 'c_1']\n",
      "5 dernières lignes :\n",
      "['ct_1', 'ct_1', 'ct_1', 'ct_1', 'ct_1'] \n",
      "\n",
      "### Structures les plus fréquentes ###\n",
      "c_9999: 606175\n",
      "c_999: 66515\n",
      "c_99: 5731\n",
      "c_9: 911\n",
      "ct_9: 200\n",
      "\n",
      "Aucune structure rare détectée.\n",
      "\n",
      "Liste des anomalies détectées : []\n"
     ]
    }
   ],
   "source": [
    "def analyze_identifier_structures_with_anomalies(column, max_examples=5):\n",
    "\n",
    "    # Convertir toutes les valeurs en chaîne pour éviter les erreurs\n",
    "    column = column.dropna().astype(str)\n",
    "\n",
    "    # Trier les valeurs par ordre alphabétique\n",
    "    column_sorted = column.sort_values()\n",
    "\n",
    "    # Afficher un aperçu des 5 premières et 5 dernières lignes\n",
    "    print(\"### Aperçu des données triées ###\")\n",
    "    print(\"5 premières lignes :\")\n",
    "    print(column_sorted.head(5).to_list())  # Conversion en liste pour un affichage plus propre\n",
    "    print(\"5 dernières lignes :\")\n",
    "    print(column_sorted.tail(5).to_list(), \"\\n\")\n",
    "\n",
    "    # Remplacer tous les chiffres par \"9\" pour révéler les structures\n",
    "    structures = column.apply(lambda x: re.sub(r'\\d', '9', x))\n",
    "\n",
    "    # Compter les occurrences des structures\n",
    "    structure_counts = structures.value_counts()\n",
    "\n",
    "    # Afficher les structures les plus fréquentes\n",
    "    print(\"### Structures les plus fréquentes ###\")\n",
    "    for structure, count in structure_counts.head(max_examples).items():\n",
    "        print(f\"{structure}: {count}\")\n",
    "    print()\n",
    "\n",
    "    # Identifier les structures rares (moins de 2 occurrences)\n",
    "    rare_structures = structure_counts[structure_counts < 2]\n",
    "\n",
    "    anomalies_client_id = []\n",
    "    if not rare_structures.empty:\n",
    "        print(\"### Structures rares (potentielles anomalies) ###\")\n",
    "        for structure, count in rare_structures.items():\n",
    "            print(f\"{structure}: {count}\")\n",
    "            # Ajouter les identifiants correspondant à cette structure rare\n",
    "            anomalies_client_id.extend(column[structures == structure].tolist())\n",
    "        print()\n",
    "    else:\n",
    "        print(\"Aucune structure rare détectée.\\n\")\n",
    "\n",
    "    # Retourner les anomalies pour vérification manuelle\n",
    "    return anomalies_client_id\n",
    "\n",
    "# Application de l'analyse\n",
    "if 'client_id' in df_transactions.columns:\n",
    "    # Identifier les anomalies et les stocker dans une liste\n",
    "    anomalies_client_id = analyze_identifier_structures_with_anomalies(df_transactions['client_id'])\n",
    "    print(\"Liste des anomalies détectées :\", anomalies_client_id)\n",
    "else:\n",
    "    print(\"La colonne 'client_id' n'existe pas dans df_transactions.\")"
   ]
  },
  {
   "cell_type": "markdown",
   "id": "b795467a-4628-457e-9f47-7f87e856fb87",
   "metadata": {},
   "source": [
    "<div style=\"background:#FFEEDA;padding:10px;\">\n",
    "On observe une structure différente des autres avec ct, présente 200 fois, ce qui correspond également au nombre de date de test.<strong> Cet identifiant client est donc notre identifiant client test. Il sera également supprimer avec les transactions associées.</strong><br/>Le nombre de lignes avec l'id test correspond aux nombres de lignes de date test.\n",
    "</div>"
   ]
  },
  {
   "cell_type": "markdown",
   "id": "86f1b2f8-addc-474a-bf46-579bfbe04f6c",
   "metadata": {},
   "source": [
    "<div style=\"border: 1px solid #5F8BC8;\" >\n",
    "<h4 style=\"margin: auto; padding: 20px; color: #5F8BC8; \">2.3.3 - Nettoyage du fichier transactions</h4>\n",
    "</div>"
   ]
  },
  {
   "cell_type": "code",
   "execution_count": 22,
   "id": "f676f32e-2117-401c-b1cd-b52130a584e7",
   "metadata": {},
   "outputs": [],
   "source": [
    "#Supression des transactions test à partir de l'identifiant produit T_0\n",
    "df_transactions = df_transactions[df_transactions['id_prod'] != 'T_0']"
   ]
  },
  {
   "cell_type": "code",
   "execution_count": 23,
   "id": "96b4ec3f-fa25-4d75-84f5-d8c0c9179f35",
   "metadata": {},
   "outputs": [
    {
     "name": "stdout",
     "output_type": "stream",
     "text": [
      "Le tableau comporte 679332 observation(s) ou ligne(s)\n",
      "Le tableau comporte 4 colonne(s)\n"
     ]
    }
   ],
   "source": [
    "#Afficher les dimensions du dataset\n",
    "print(\"Le tableau comporte {} observation(s) ou ligne(s)\".format(df_transactions.shape[0]))\n",
    "print(\"Le tableau comporte {} colonne(s)\".format(df_transactions.shape[1]))"
   ]
  },
  {
   "cell_type": "markdown",
   "id": "2a2d4f58",
   "metadata": {},
   "source": [
    "<div style=\"background-color:#638BC9;\" >\n",
    "<h2 style=\"margin: auto; padding: 20px; color:#fff; \">Étape 3 - Analyse des différents indicateurs de vente</h2>\n",
    "</div>"
   ]
  },
  {
   "cell_type": "markdown",
   "id": "daa700eb-170e-4557-a61f-534452c78419",
   "metadata": {},
   "source": [
    "<div style=\"background:#C0DFF4;\" >\n",
    "<h3 style=\"margin: auto; padding: 20px; color: #0D2E63; \">3.1 - Évolution dans le temps du chiffre d'affaire</h3>\n",
    "</div>"
   ]
  },
  {
   "cell_type": "markdown",
   "id": "6977718b",
   "metadata": {},
   "source": [
    "<div style=\"border: 1px solid #5F8BC8;\" >\n",
    "<h4 style=\"margin: auto; padding: 20px; color: #5F8BC8; \">3.1.1 - Fusion des dataframes transcations et produits</h4>\n",
    "</div>"
   ]
  },
  {
   "cell_type": "markdown",
   "id": "9607f68e-d6eb-4b33-b968-09491158d378",
   "metadata": {},
   "source": [
    "<div style=\"background:#FFEEDA;padding:10px;\">\n",
    "On fusionne les dataframes transactions et produits afin de définir le chiffres d'affaires et les périodes associées.\n",
    "</div>"
   ]
  },
  {
   "cell_type": "code",
   "execution_count": 24,
   "id": "faa8b19b-1b7e-48cb-8c42-466c2e3f0b97",
   "metadata": {},
   "outputs": [
    {
     "data": {
      "text/plain": [
       "('2021-03-01 00:01:07.843138', '2023-02-28 23:58:30.792755')"
      ]
     },
     "execution_count": 24,
     "metadata": {},
     "output_type": "execute_result"
    }
   ],
   "source": [
    "#Calcul de la période couverte par les données\n",
    "date_min = df_transactions['date'].min()\n",
    "date_max = df_transactions['date'].max()\n",
    "date_min, date_max"
   ]
  },
  {
   "cell_type": "markdown",
   "id": "e98bd08b-b0ae-4643-a4d7-8a566da035ae",
   "metadata": {},
   "source": [
    "<div style=\"background:#FFEEDA;padding:10px;\">\n",
    "La période observée s'étend du <strong>1 mars 2021</strong> au <strong>28 février 2023</strong>.\n",
    "</div>"
   ]
  },
  {
   "cell_type": "code",
   "execution_count": 25,
   "id": "d9ce62ff",
   "metadata": {},
   "outputs": [
    {
     "name": "stdout",
     "output_type": "stream",
     "text": [
      "Transactions non associées :\n",
      "       id_prod                        date session_id client_id  price  categ\n",
      "2633    0_2245  2022-09-23 07:22:38.636773   s_272266    c_4746    NaN    NaN\n",
      "10103   0_2245  2022-07-23 09:24:14.133889   s_242482    c_6713    NaN    NaN\n",
      "11723   0_2245  2022-12-03 03:26:35.696673   s_306338    c_5108    NaN    NaN\n",
      "15670   0_2245  2021-08-16 11:33:25.481411    s_76493    c_1391    NaN    NaN\n",
      "16372   0_2245  2022-07-16 05:53:01.627491   s_239078    c_7954    NaN    NaN\n",
      "...        ...                         ...        ...       ...    ...    ...\n",
      "669533  0_2245  2021-08-25 09:06:03.504061    s_80395     c_131    NaN    NaN\n",
      "670484  0_2245  2022-03-06 19:59:19.462288   s_175311    c_4167    NaN    NaN\n",
      "671088  0_2245  2022-05-16 11:35:20.319501   s_209381    c_4453    NaN    NaN\n",
      "675480  0_2245  2022-02-11 09:05:43.952857   s_163405    c_1098    NaN    NaN\n",
      "677797  0_2245  2021-12-14 22:34:54.589921   s_134446    c_4854    NaN    NaN\n",
      "\n",
      "[221 rows x 6 columns]\n",
      "Nombre de transactions non associées : 221\n"
     ]
    }
   ],
   "source": [
    "#Joindre les dataframes produits et transcations\n",
    "df_transactions_detaillees = pd.merge(df_transactions, df_products, on='id_prod', how='left')\n",
    "\n",
    "# Vérifier les transactions sans correspondance (colonnes issues de df_products sont NaN)\n",
    "transactions_non_associees = df_transactions_detaillees[df_transactions_detaillees['price'].isna() | df_transactions_detaillees['categ'].isna()]\n",
    "\n",
    "# Afficher les transactions non associées\n",
    "print(\"Transactions non associées :\")\n",
    "print(transactions_non_associees)\n",
    "\n",
    "# Compter le nombre de transactions non associées\n",
    "print(f\"Nombre de transactions non associées : {len(transactions_non_associees)}\")"
   ]
  },
  {
   "cell_type": "code",
   "execution_count": 26,
   "id": "5fcf64ef-c4ee-4e80-9b35-da7c0ba3ef1b",
   "metadata": {},
   "outputs": [],
   "source": [
    "#On supprime les transactions sans produits\n",
    "df_transactions_detaillees = df_transactions_detaillees[df_transactions_detaillees['price'].notna() & df_transactions_detaillees['categ'].notna()]\n",
    "\n",
    "#Remettre le bon type sur la catégorie\n",
    "df_transactions_detaillees['categ'] = df_transactions_detaillees['categ'].astype(int)"
   ]
  },
  {
   "cell_type": "code",
   "execution_count": 27,
   "id": "0ec0f270-a5d6-4862-96e4-cd7c58084b22",
   "metadata": {},
   "outputs": [
    {
     "name": "stdout",
     "output_type": "stream",
     "text": [
      "                        date    month\n",
      "0 2022-05-20 13:21:29.043970  2022-05\n",
      "1 2022-02-02 07:55:19.149409  2022-02\n",
      "2 2022-06-18 15:44:33.155329  2022-06\n",
      "3 2021-06-24 04:19:29.835891  2021-06\n",
      "4 2023-01-11 08:22:08.194479  2023-01\n"
     ]
    }
   ],
   "source": [
    "# Conversion de la colonne 'date' en datetime\n",
    "df_transactions_detaillees['date'] = pd.to_datetime(df_transactions_detaillees['date'], errors='coerce')\n",
    "\n",
    "# Ajouter une colonne pour les mois au format MM-YYYY\n",
    "df_transactions_detaillees['month'] = df_transactions_detaillees['date'].dt.to_period('M')\n",
    "\n",
    "# Afficher un aperçu\n",
    "print(df_transactions_detaillees[['date', 'month']].head())"
   ]
  },
  {
   "cell_type": "code",
   "execution_count": 28,
   "id": "8452a199-5a9d-4963-b0f4-1d3104f04ed1",
   "metadata": {},
   "outputs": [
    {
     "data": {
      "text/html": [
       "<div>\n",
       "<style scoped>\n",
       "    .dataframe tbody tr th:only-of-type {\n",
       "        vertical-align: middle;\n",
       "    }\n",
       "\n",
       "    .dataframe tbody tr th {\n",
       "        vertical-align: top;\n",
       "    }\n",
       "\n",
       "    .dataframe thead th {\n",
       "        text-align: right;\n",
       "    }\n",
       "</style>\n",
       "<table border=\"1\" class=\"dataframe\">\n",
       "  <thead>\n",
       "    <tr style=\"text-align: right;\">\n",
       "      <th></th>\n",
       "      <th>id_prod</th>\n",
       "      <th>date</th>\n",
       "      <th>session_id</th>\n",
       "      <th>client_id</th>\n",
       "      <th>price</th>\n",
       "      <th>categ</th>\n",
       "      <th>month</th>\n",
       "    </tr>\n",
       "  </thead>\n",
       "  <tbody>\n",
       "    <tr>\n",
       "      <th>0</th>\n",
       "      <td>0_1518</td>\n",
       "      <td>2022-05-20 13:21:29.043970</td>\n",
       "      <td>s_211425</td>\n",
       "      <td>c_103</td>\n",
       "      <td>4.18</td>\n",
       "      <td>0</td>\n",
       "      <td>2022-05</td>\n",
       "    </tr>\n",
       "    <tr>\n",
       "      <th>1</th>\n",
       "      <td>1_251</td>\n",
       "      <td>2022-02-02 07:55:19.149409</td>\n",
       "      <td>s_158752</td>\n",
       "      <td>c_8534</td>\n",
       "      <td>15.99</td>\n",
       "      <td>1</td>\n",
       "      <td>2022-02</td>\n",
       "    </tr>\n",
       "    <tr>\n",
       "      <th>2</th>\n",
       "      <td>0_1277</td>\n",
       "      <td>2022-06-18 15:44:33.155329</td>\n",
       "      <td>s_225667</td>\n",
       "      <td>c_6714</td>\n",
       "      <td>7.99</td>\n",
       "      <td>0</td>\n",
       "      <td>2022-06</td>\n",
       "    </tr>\n",
       "    <tr>\n",
       "      <th>3</th>\n",
       "      <td>2_209</td>\n",
       "      <td>2021-06-24 04:19:29.835891</td>\n",
       "      <td>s_52962</td>\n",
       "      <td>c_6941</td>\n",
       "      <td>69.99</td>\n",
       "      <td>2</td>\n",
       "      <td>2021-06</td>\n",
       "    </tr>\n",
       "    <tr>\n",
       "      <th>4</th>\n",
       "      <td>0_1509</td>\n",
       "      <td>2023-01-11 08:22:08.194479</td>\n",
       "      <td>s_325227</td>\n",
       "      <td>c_4232</td>\n",
       "      <td>4.99</td>\n",
       "      <td>0</td>\n",
       "      <td>2023-01</td>\n",
       "    </tr>\n",
       "  </tbody>\n",
       "</table>\n",
       "</div>"
      ],
      "text/plain": [
       "  id_prod                       date session_id client_id  price  categ  \\\n",
       "0  0_1518 2022-05-20 13:21:29.043970   s_211425     c_103   4.18      0   \n",
       "1   1_251 2022-02-02 07:55:19.149409   s_158752    c_8534  15.99      1   \n",
       "2  0_1277 2022-06-18 15:44:33.155329   s_225667    c_6714   7.99      0   \n",
       "3   2_209 2021-06-24 04:19:29.835891    s_52962    c_6941  69.99      2   \n",
       "4  0_1509 2023-01-11 08:22:08.194479   s_325227    c_4232   4.99      0   \n",
       "\n",
       "     month  \n",
       "0  2022-05  \n",
       "1  2022-02  \n",
       "2  2022-06  \n",
       "3  2021-06  \n",
       "4  2023-01  "
      ]
     },
     "execution_count": 28,
     "metadata": {},
     "output_type": "execute_result"
    }
   ],
   "source": [
    "df_transactions_detaillees.head()"
   ]
  },
  {
   "cell_type": "code",
   "execution_count": 29,
   "id": "95e581a5-5561-4447-a49e-aa0316fe1b3d",
   "metadata": {},
   "outputs": [
    {
     "data": {
      "text/html": [
       "<div>\n",
       "<style scoped>\n",
       "    .dataframe tbody tr th:only-of-type {\n",
       "        vertical-align: middle;\n",
       "    }\n",
       "\n",
       "    .dataframe tbody tr th {\n",
       "        vertical-align: top;\n",
       "    }\n",
       "\n",
       "    .dataframe thead th {\n",
       "        text-align: right;\n",
       "    }\n",
       "</style>\n",
       "<table border=\"1\" class=\"dataframe\">\n",
       "  <thead>\n",
       "    <tr style=\"text-align: right;\">\n",
       "      <th></th>\n",
       "      <th>month</th>\n",
       "      <th>price</th>\n",
       "    </tr>\n",
       "  </thead>\n",
       "  <tbody>\n",
       "    <tr>\n",
       "      <th>0</th>\n",
       "      <td>2021-03</td>\n",
       "      <td>482440.61</td>\n",
       "    </tr>\n",
       "    <tr>\n",
       "      <th>1</th>\n",
       "      <td>2021-04</td>\n",
       "      <td>476109.30</td>\n",
       "    </tr>\n",
       "    <tr>\n",
       "      <th>2</th>\n",
       "      <td>2021-05</td>\n",
       "      <td>492943.47</td>\n",
       "    </tr>\n",
       "    <tr>\n",
       "      <th>3</th>\n",
       "      <td>2021-06</td>\n",
       "      <td>484088.56</td>\n",
       "    </tr>\n",
       "    <tr>\n",
       "      <th>4</th>\n",
       "      <td>2021-07</td>\n",
       "      <td>482835.40</td>\n",
       "    </tr>\n",
       "    <tr>\n",
       "      <th>5</th>\n",
       "      <td>2021-08</td>\n",
       "      <td>482284.79</td>\n",
       "    </tr>\n",
       "    <tr>\n",
       "      <th>6</th>\n",
       "      <td>2021-09</td>\n",
       "      <td>507240.68</td>\n",
       "    </tr>\n",
       "    <tr>\n",
       "      <th>7</th>\n",
       "      <td>2021-10</td>\n",
       "      <td>320798.74</td>\n",
       "    </tr>\n",
       "    <tr>\n",
       "      <th>8</th>\n",
       "      <td>2021-11</td>\n",
       "      <td>516167.73</td>\n",
       "    </tr>\n",
       "    <tr>\n",
       "      <th>9</th>\n",
       "      <td>2021-12</td>\n",
       "      <td>525917.28</td>\n",
       "    </tr>\n",
       "    <tr>\n",
       "      <th>10</th>\n",
       "      <td>2022-01</td>\n",
       "      <td>525338.99</td>\n",
       "    </tr>\n",
       "    <tr>\n",
       "      <th>11</th>\n",
       "      <td>2022-02</td>\n",
       "      <td>535571.50</td>\n",
       "    </tr>\n",
       "    <tr>\n",
       "      <th>12</th>\n",
       "      <td>2022-03</td>\n",
       "      <td>515456.53</td>\n",
       "    </tr>\n",
       "    <tr>\n",
       "      <th>13</th>\n",
       "      <td>2022-04</td>\n",
       "      <td>492998.94</td>\n",
       "    </tr>\n",
       "    <tr>\n",
       "      <th>14</th>\n",
       "      <td>2022-05</td>\n",
       "      <td>517132.60</td>\n",
       "    </tr>\n",
       "    <tr>\n",
       "      <th>15</th>\n",
       "      <td>2022-06</td>\n",
       "      <td>496016.12</td>\n",
       "    </tr>\n",
       "    <tr>\n",
       "      <th>16</th>\n",
       "      <td>2022-07</td>\n",
       "      <td>510783.12</td>\n",
       "    </tr>\n",
       "    <tr>\n",
       "      <th>17</th>\n",
       "      <td>2022-08</td>\n",
       "      <td>506467.27</td>\n",
       "    </tr>\n",
       "    <tr>\n",
       "      <th>18</th>\n",
       "      <td>2022-09</td>\n",
       "      <td>494114.53</td>\n",
       "    </tr>\n",
       "    <tr>\n",
       "      <th>19</th>\n",
       "      <td>2022-10</td>\n",
       "      <td>507917.77</td>\n",
       "    </tr>\n",
       "    <tr>\n",
       "      <th>20</th>\n",
       "      <td>2022-11</td>\n",
       "      <td>496664.94</td>\n",
       "    </tr>\n",
       "    <tr>\n",
       "      <th>21</th>\n",
       "      <td>2022-12</td>\n",
       "      <td>510219.50</td>\n",
       "    </tr>\n",
       "    <tr>\n",
       "      <th>22</th>\n",
       "      <td>2023-01</td>\n",
       "      <td>517540.55</td>\n",
       "    </tr>\n",
       "    <tr>\n",
       "      <th>23</th>\n",
       "      <td>2023-02</td>\n",
       "      <td>456679.76</td>\n",
       "    </tr>\n",
       "  </tbody>\n",
       "</table>\n",
       "</div>"
      ],
      "text/plain": [
       "      month      price\n",
       "0   2021-03  482440.61\n",
       "1   2021-04  476109.30\n",
       "2   2021-05  492943.47\n",
       "3   2021-06  484088.56\n",
       "4   2021-07  482835.40\n",
       "5   2021-08  482284.79\n",
       "6   2021-09  507240.68\n",
       "7   2021-10  320798.74\n",
       "8   2021-11  516167.73\n",
       "9   2021-12  525917.28\n",
       "10  2022-01  525338.99\n",
       "11  2022-02  535571.50\n",
       "12  2022-03  515456.53\n",
       "13  2022-04  492998.94\n",
       "14  2022-05  517132.60\n",
       "15  2022-06  496016.12\n",
       "16  2022-07  510783.12\n",
       "17  2022-08  506467.27\n",
       "18  2022-09  494114.53\n",
       "19  2022-10  507917.77\n",
       "20  2022-11  496664.94\n",
       "21  2022-12  510219.50\n",
       "22  2023-01  517540.55\n",
       "23  2023-02  456679.76"
      ]
     },
     "execution_count": 29,
     "metadata": {},
     "output_type": "execute_result"
    }
   ],
   "source": [
    "# Faire un group by sur le mois et calculer la somme des prix (chiffre d'affaires)\n",
    "df_ca_mensuel = df_transactions_detaillees.groupby('month')['price'].sum().reset_index()\n",
    "\n",
    "# Réorganiser le DataFrame par ordre chronologique\n",
    "df_ca_mensuel = df_ca_mensuel.sort_values(by='month')\n",
    "\n",
    "# Afficher les premières lignes du DataFrame\n",
    "df_ca_mensuel.head(24)"
   ]
  },
  {
   "cell_type": "code",
   "execution_count": 30,
   "id": "c98fcf88-fa4d-44e9-85b3-115dc47e3ee2",
   "metadata": {},
   "outputs": [
    {
     "data": {
      "image/png": "[encoded data removed]",
      "text/plain": [
       "<Figure size 1000x500 with 1 Axes>"
      ]
     },
     "metadata": {},
     "output_type": "display_data"
    }
   ],
   "source": [
    "# graphique de l'évolution du CA dans le temps\n",
    "\n",
    "# Configuration de la figure\n",
    "plt.figure(figsize=(10, 5))\n",
    "\n",
    "# Traçage des données avec un thème amélioré\n",
    "plt.plot(\n",
    "    df_ca_mensuel['month'].astype(str),\n",
    "    df_ca_mensuel['price'],\n",
    "    marker='.',\n",
    "    color='#FF6F61',  # Couleur de la ligne\n",
    "    linestyle='-',\n",
    "    label='Chiffre d\\'Affaires'\n",
    ")\n",
    "\n",
    "# Titres et labels\n",
    "plt.title('Évolution du Chiffre d\\'Affaires dans le Temps', fontsize=14, color='#37474F')  # Couleur du titre\n",
    "plt.xticks(rotation=45, fontsize=10, color='#37474F')  # Taille de la police et rotation des mois\n",
    "plt.yticks(fontsize=10, color='#37474F')\n",
    "\n",
    "# Personnalisation de la grille\n",
    "plt.grid(visible=True, linestyle='--', linewidth=0.7, alpha=0.6, color='#B0BEC5')  # Grille en gris doux\n",
    "\n",
    "# Ajout de la légende\n",
    "plt.legend(loc='upper left', fontsize=12, frameon=False, facecolor='#ECEFF1')\n",
    "\n",
    "# Ajustement de la mise en page\n",
    "plt.tight_layout()\n",
    "\n",
    "# Affichage\n",
    "plt.show()"
   ]
  },
  {
   "cell_type": "markdown",
   "id": "d1e86794",
   "metadata": {},
   "source": [
    "<div style=\"background:#FFEEDA;padding:10px;\">\n",
    "On observe au mois d'octobre 2010 une chute importante et anormale du CA. Une telle chute marque une certaine incohérence dans les données, et n'est pas représentative d'une activité normale.\n",
    "    <br/>Afin de compler ce résultat abérrant nous allons effectuer une extrapolation des résultats pour le mois d'octobre.\n",
    "</div>"
   ]
  },
  {
   "cell_type": "code",
   "execution_count": 31,
   "id": "892ec254",
   "metadata": {},
   "outputs": [
    {
     "name": "stdout",
     "output_type": "stream",
     "text": [
      "Valeur interpolée pour octobre 2021 : 511704.20 €\n"
     ]
    }
   ],
   "source": [
    "# Interpolation linéaire uniquement pour octobre 2021\n",
    "october_2021_index = df_ca_mensuel.index[df_ca_mensuel['month'] == '2021-10'][0]\n",
    "\n",
    "# Calcul de la valeur interpolée pour octobre 2021 (moyenne des mois adjacents)\n",
    "october_2021_price_interpolated = (\n",
    "    df_ca_mensuel.loc[october_2021_index - 1, 'price'] + \n",
    "    df_ca_mensuel.loc[october_2021_index + 1, 'price']\n",
    ") / 2\n",
    "\n",
    "# Affichage de la valeur interpolée\n",
    "print(f\"Valeur interpolée pour octobre 2021 : {october_2021_price_interpolated:.2f} €\")"
   ]
  },
  {
   "cell_type": "code",
   "execution_count": 32,
   "id": "07e45de7",
   "metadata": {},
   "outputs": [
    {
     "data": {
      "text/html": [
       "<div>\n",
       "<style scoped>\n",
       "    .dataframe tbody tr th:only-of-type {\n",
       "        vertical-align: middle;\n",
       "    }\n",
       "\n",
       "    .dataframe tbody tr th {\n",
       "        vertical-align: top;\n",
       "    }\n",
       "\n",
       "    .dataframe thead th {\n",
       "        text-align: right;\n",
       "    }\n",
       "</style>\n",
       "<table border=\"1\" class=\"dataframe\">\n",
       "  <thead>\n",
       "    <tr style=\"text-align: right;\">\n",
       "      <th></th>\n",
       "      <th>month</th>\n",
       "      <th>price</th>\n",
       "    </tr>\n",
       "  </thead>\n",
       "  <tbody>\n",
       "    <tr>\n",
       "      <th>0</th>\n",
       "      <td>2021-03</td>\n",
       "      <td>482440.610</td>\n",
       "    </tr>\n",
       "    <tr>\n",
       "      <th>1</th>\n",
       "      <td>2021-04</td>\n",
       "      <td>476109.300</td>\n",
       "    </tr>\n",
       "    <tr>\n",
       "      <th>2</th>\n",
       "      <td>2021-05</td>\n",
       "      <td>492943.470</td>\n",
       "    </tr>\n",
       "    <tr>\n",
       "      <th>3</th>\n",
       "      <td>2021-06</td>\n",
       "      <td>484088.560</td>\n",
       "    </tr>\n",
       "    <tr>\n",
       "      <th>4</th>\n",
       "      <td>2021-07</td>\n",
       "      <td>482835.400</td>\n",
       "    </tr>\n",
       "    <tr>\n",
       "      <th>5</th>\n",
       "      <td>2021-08</td>\n",
       "      <td>482284.790</td>\n",
       "    </tr>\n",
       "    <tr>\n",
       "      <th>6</th>\n",
       "      <td>2021-09</td>\n",
       "      <td>507240.680</td>\n",
       "    </tr>\n",
       "    <tr>\n",
       "      <th>7</th>\n",
       "      <td>2021-10</td>\n",
       "      <td>511704.205</td>\n",
       "    </tr>\n",
       "    <tr>\n",
       "      <th>8</th>\n",
       "      <td>2021-11</td>\n",
       "      <td>516167.730</td>\n",
       "    </tr>\n",
       "    <tr>\n",
       "      <th>9</th>\n",
       "      <td>2021-12</td>\n",
       "      <td>525917.280</td>\n",
       "    </tr>\n",
       "    <tr>\n",
       "      <th>10</th>\n",
       "      <td>2022-01</td>\n",
       "      <td>525338.990</td>\n",
       "    </tr>\n",
       "    <tr>\n",
       "      <th>11</th>\n",
       "      <td>2022-02</td>\n",
       "      <td>535571.500</td>\n",
       "    </tr>\n",
       "    <tr>\n",
       "      <th>12</th>\n",
       "      <td>2022-03</td>\n",
       "      <td>515456.530</td>\n",
       "    </tr>\n",
       "    <tr>\n",
       "      <th>13</th>\n",
       "      <td>2022-04</td>\n",
       "      <td>492998.940</td>\n",
       "    </tr>\n",
       "    <tr>\n",
       "      <th>14</th>\n",
       "      <td>2022-05</td>\n",
       "      <td>517132.600</td>\n",
       "    </tr>\n",
       "    <tr>\n",
       "      <th>15</th>\n",
       "      <td>2022-06</td>\n",
       "      <td>496016.120</td>\n",
       "    </tr>\n",
       "    <tr>\n",
       "      <th>16</th>\n",
       "      <td>2022-07</td>\n",
       "      <td>510783.120</td>\n",
       "    </tr>\n",
       "    <tr>\n",
       "      <th>17</th>\n",
       "      <td>2022-08</td>\n",
       "      <td>506467.270</td>\n",
       "    </tr>\n",
       "    <tr>\n",
       "      <th>18</th>\n",
       "      <td>2022-09</td>\n",
       "      <td>494114.530</td>\n",
       "    </tr>\n",
       "    <tr>\n",
       "      <th>19</th>\n",
       "      <td>2022-10</td>\n",
       "      <td>507917.770</td>\n",
       "    </tr>\n",
       "    <tr>\n",
       "      <th>20</th>\n",
       "      <td>2022-11</td>\n",
       "      <td>496664.940</td>\n",
       "    </tr>\n",
       "    <tr>\n",
       "      <th>21</th>\n",
       "      <td>2022-12</td>\n",
       "      <td>510219.500</td>\n",
       "    </tr>\n",
       "    <tr>\n",
       "      <th>22</th>\n",
       "      <td>2023-01</td>\n",
       "      <td>517540.550</td>\n",
       "    </tr>\n",
       "  </tbody>\n",
       "</table>\n",
       "</div>"
      ],
      "text/plain": [
       "      month       price\n",
       "0   2021-03  482440.610\n",
       "1   2021-04  476109.300\n",
       "2   2021-05  492943.470\n",
       "3   2021-06  484088.560\n",
       "4   2021-07  482835.400\n",
       "5   2021-08  482284.790\n",
       "6   2021-09  507240.680\n",
       "7   2021-10  511704.205\n",
       "8   2021-11  516167.730\n",
       "9   2021-12  525917.280\n",
       "10  2022-01  525338.990\n",
       "11  2022-02  535571.500\n",
       "12  2022-03  515456.530\n",
       "13  2022-04  492998.940\n",
       "14  2022-05  517132.600\n",
       "15  2022-06  496016.120\n",
       "16  2022-07  510783.120\n",
       "17  2022-08  506467.270\n",
       "18  2022-09  494114.530\n",
       "19  2022-10  507917.770\n",
       "20  2022-11  496664.940\n",
       "21  2022-12  510219.500\n",
       "22  2023-01  517540.550"
      ]
     },
     "execution_count": 32,
     "metadata": {},
     "output_type": "execute_result"
    }
   ],
   "source": [
    "# Mise à jour de la valeur dans le DataFrame\n",
    "df_ca_mensuel.loc[october_2021_index, 'price'] = october_2021_price_interpolated\n",
    "\n",
    "# Vérification de la mise à jour\n",
    "df_ca_mensuel.head(23)"
   ]
  },
  {
   "cell_type": "code",
   "execution_count": 33,
   "id": "dedda36f",
   "metadata": {},
   "outputs": [
    {
     "data": {
      "image/png": "[encoded data removed]",
      "text/plain": [
       "<Figure size 1000x500 with 1 Axes>"
      ]
     },
     "metadata": {},
     "output_type": "display_data"
    }
   ],
   "source": [
    "# graphique de l'évolution du CA dans le temps\n",
    "\n",
    "# Configuration de la figure\n",
    "plt.figure(figsize=(10, 5))\n",
    "\n",
    "# Traçage des données avec un thème amélioré\n",
    "plt.plot(\n",
    "    df_ca_mensuel['month'].astype(str),\n",
    "    df_ca_mensuel['price'],\n",
    "    marker='.',\n",
    "    color='#FF6F61',  # Couleur de la ligne\n",
    "    linestyle='-',\n",
    "    label='Chiffre d\\'Affaires'\n",
    ")\n",
    "\n",
    "# Titres et labels\n",
    "plt.title('Évolution du Chiffre d\\'Affaires dans le Temps', fontsize=14, color='#37474F')  # Couleur du titre\n",
    "plt.xticks(rotation=45, fontsize=10, color='#37474F')  # Taille de la police et rotation des mois\n",
    "plt.yticks(fontsize=10, color='#37474F')\n",
    "\n",
    "# Personnalisation de la grille\n",
    "plt.grid(visible=True, linestyle='--', linewidth=0.7, alpha=0.6, color='#B0BEC5')  # Grille en gris doux\n",
    "\n",
    "# Ajout de la légende\n",
    "plt.legend(loc='upper left', fontsize=12, frameon=False, facecolor='#ECEFF1')\n",
    "\n",
    "# Ajustement de la mise en page\n",
    "plt.tight_layout()\n",
    "\n",
    "# Affichage\n",
    "plt.show()"
   ]
  },
  {
   "cell_type": "markdown",
   "id": "6bb20b8f",
   "metadata": {},
   "source": [
    "<div style=\"background:#FFEEDA;padding:10px;\">\n",
    "    <strong>IMPORTANT !!</strong>\n",
    "    <br/>Nous avons constaté que le fichier \"Transcations\" comporte un grand nombre de lignes absentes.\n",
    "    <br>Afin de ne pas fausser les résultats suivants nous repartirons donc sur le fichier transactions validé (déjà nettoyé) pour nos analyses.\n",
    "    <p>Pour plus de clarté les analyses et tests statistiques seront traitées dans un autre notebook.</p>\n",
    "    <p>Notebook avec les analyses : <a href=\"./RIVIERE_Aurelie_2_Notebook-Analyses_012025.ipynb\" target=\"_blank\">Notebook Analyses</a>\n",
    "</p>\n",
    "</div>"
   ]
  }
 ],
 "metadata": {
  "kernelspec": {
   "display_name": "Python 3 (ipykernel)",
   "language": "python",
   "name": "python3"
  },
  "language_info": {
   "codemirror_mode": {
    "name": "ipython",
    "version": 3
   },
   "file_extension": ".py",
   "mimetype": "text/x-python",
   "name": "python",
   "nbconvert_exporter": "python",
   "pygments_lexer": "ipython3",
   "version": "3.12.3"
  },
  "toc": {
   "base_numbering": 1,
   "nav_menu": {},
   "number_sections": false,
   "sideBar": true,
   "skip_h1_title": true,
   "title_cell": "Table of Contents",
   "title_sidebar": "Contents",
   "toc_cell": false,
   "toc_position": {
    "height": "calc(100% - 180px)",
    "left": "10px",
    "top": "150px",
    "width": "489.2px"
   },
   "toc_section_display": true,
   "toc_window_display": false
  }
 },
 "nbformat": 4,
 "nbformat_minor": 5
}
