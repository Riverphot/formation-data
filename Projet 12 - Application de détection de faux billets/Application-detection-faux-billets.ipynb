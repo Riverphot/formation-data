{
 "cells": [
  {
   "cell_type": "code",
   "execution_count": 1,
   "id": "6639a642",
   "metadata": {},
   "outputs": [],
   "source": [
    "# Ce notebook contient le code de l'application de machine learning développé dans le cadre de la détection de faux billets\n",
    "# Le notebook est optimisé pour une lecture avec Voilà afin de rendre l'interface utiliateur plus conviviale."
   ]
  },
  {
   "cell_type": "code",
   "execution_count": 2,
   "id": "8a959dca",
   "metadata": {},
   "outputs": [],
   "source": [
    "#Importation des librairies\n",
    "import pandas as pd\n",
    "import numpy as np\n",
    "import ipywidgets as widgets\n",
    "from IPython.display import display, clear_output\n",
    "import matplotlib.pyplot as plt\n",
    "from io import StringIO\n",
    "import base64\n",
    "import joblib\n",
    "import os"
   ]
  },
  {
   "cell_type": "code",
   "execution_count": 3,
   "id": "0e57bc08",
   "metadata": {},
   "outputs": [],
   "source": [
    "# Chargement du modèle et du scaler\n",
    "knn = joblib.load(\"modele/knn.pkl\")\n",
    "scaler = joblib.load(\"modele/scaler_knn.pkl\")"
   ]
  },
  {
   "cell_type": "code",
   "execution_count": 4,
   "id": "0b248efd",
   "metadata": {},
   "outputs": [],
   "source": [
    "# Widgets\n",
    "upload_widget = widgets.FileUpload(accept='.csv', multiple=False)\n",
    "bouton_prediction = widgets.Button(description=\"🔍 Prédire\", button_style='info')\n",
    "bouton_telechargement = widgets.Button(description=\"💾 Télécharger les prédictions\", layout=widgets.Layout(width='auto'))\n",
    "output_resultat = widgets.Output()\n",
    "output_stats = widgets.Output()\n",
    "output_camembert = widgets.Output()\n",
    "output_export = widgets.Output()"
   ]
  },
  {
   "cell_type": "code",
   "execution_count": 5,
   "id": "74fc83b0",
   "metadata": {},
   "outputs": [],
   "source": [
    "# Variables globales (remplies lors de l'import)\n",
    "df_resultats = pd.DataFrame()\n",
    "nom_fichier_csv = \"\""
   ]
  },
  {
   "cell_type": "code",
   "execution_count": 6,
   "id": "af0d7a2e",
   "metadata": {},
   "outputs": [],
   "source": [
    "def traiter_fichier(change=None):\n",
    "    global df_resultats, nom_fichier_csv\n",
    "    if not upload_widget.value:\n",
    "        return\n",
    "\n",
    "    contenu = list(upload_widget.value.values())[0]['content']\n",
    "    nom_fichier_csv = list(upload_widget.value.values())[0]['metadata']['name']\n",
    "    df = pd.read_csv(StringIO(contenu.decode('utf-8')), sep=None, engine='python')\n",
    "\n",
    "    # Prédictions\n",
    "    ids = df['id']\n",
    "    X = df[['margin_low', 'margin_up', 'length']]\n",
    "    X_scaled = scaler.transform(X)\n",
    "    y_pred = knn.predict(X_scaled)\n",
    "    df['is_genuine'] = y_pred\n",
    "\n",
    "    # Score de confiance basé sur les voisins (proportion de vote majoritaire)\n",
    "    y_proba = knn.predict_proba(X_scaled)\n",
    "    df['confidence'] = y_proba.max(axis=1)\n",
    "\n",
    "    # Distance moyenne aux k voisins les plus proches\n",
    "    distances, _ = knn.kneighbors(X_scaled)\n",
    "    df['avg_distance'] = distances.mean(axis=1)\n",
    "\n",
    "    # On copie le DataFrame une fois qu’il est enrichi\n",
    "    df_resultats = df.copy()\n",
    "\n",
    "    nb_vrai = (df_resultats['is_genuine'] == 1).sum()\n",
    "    nb_faux = (df_resultats['is_genuine'] == 0).sum()\n",
    "    ids_faux = df_resultats[df_resultats['is_genuine'] == 0]['id'].tolist()\n",
    "\n",
    "    with output_resultat:\n",
    "        clear_output()\n",
    "        display(widgets.HTML(\"<h3 style='margin:0;'>Prédictions</h3>\"))\n",
    "\n",
    "        display(widgets.HTML(f\"<div style='background:#51c8eb;padding:10px;margin-bottom:5px;border-radius:5px;'>✅ {nb_vrai} Vrais Billets identifiés</div>\"))\n",
    "        display(widgets.HTML(f\"<div style='color:white;background:#902786;padding:10px;margin-bottom:10px;border-radius:5px;'>🛑 {nb_faux} Faux Billets identifiés</div>\"))\n",
    "\n",
    "        faux_ids_html = \"\".join([f\"<button disabled style='margin:2px;'>{bid}</button>\" for bid in ids_faux])\n",
    "        display(widgets.HTML(f\"<div style='background:#f0f0f0;padding:10px;border-radius:5px;margin-bottom:10px;'><b>Liste des billets identifiés comme faux :</b><br>{faux_ids_html}</div>\"))\n",
    "        \n",
    "        \n",
    "    with output_stats:\n",
    "         # Légende explicative\n",
    "        explication_html = \"\"\"\n",
    "        <div style='margin-top:10px; margin-bottom:10px;'>\n",
    "            <b>Liste complète des billets et statistiques :</b><br>\n",
    "            <ul style=\"font-size:10px;color:#666666;line-height:14px;\">\n",
    "                <li><b>is_genuine</b> : prédiction du modèle (1 = vrai billet, 0 = faux billet)</li>\n",
    "                <li><b>confidence</b> : proportion de voisins ayant voté pour la classe prédite</li>\n",
    "                <li><b>avg_distance</b> : distance moyenne aux voisins les plus proches (plus elle est faible, plus le billet est typique)</li>\n",
    "            </ul>\n",
    "        </div>\n",
    "        \"\"\"\n",
    "        display(widgets.HTML(explication_html))\n",
    "\n",
    "        # Affichage du DataFrame enrichi (avec arrondi propre)\n",
    "        df_affichage = df_resultats.copy()\n",
    "        df_affichage['confidence'] = df_affichage['confidence'].round(2)\n",
    "        df_affichage['avg_distance'] = df_affichage['avg_distance'].round(4)\n",
    "        display(df_affichage)\n",
    "\n",
    "        display(bouton_telechargement)\n",
    "        \n",
    "    with output_camembert:\n",
    "        clear_output()\n",
    "        fig, ax = plt.subplots(figsize=(4, 4))\n",
    "        sizes = [nb_vrai, nb_faux]\n",
    "        labels = [\"Vrai\", \"Faux\"]\n",
    "        colors = ['#51c8eb', '#902786']\n",
    "\n",
    "        def make_label(pct, allvals):\n",
    "            total = sum(sizes)\n",
    "            val = int(round(pct * total / 100.0))\n",
    "            return f\"{'Vrai' if val == sizes[0] else 'Faux'}\\n{pct:.1f}%\"\n",
    "\n",
    "        wedges, texts, autotexts = ax.pie(sizes, autopct=lambda pct: make_label(pct, sizes), colors=colors, textprops={'color':\"white\", 'fontsize': 10})\n",
    "        ax.set_title(\"Répartition des vrais/faux billets\", fontsize=11, weight='bold')\n",
    "        plt.tight_layout()\n",
    "        plt.show()"
   ]
  },
  {
   "cell_type": "code",
   "execution_count": 7,
   "id": "7012a8da",
   "metadata": {},
   "outputs": [],
   "source": [
    "# Fonction de téléchargement\n",
    "def telecharger_resultats(change):\n",
    "    global df_resultats, nom_fichier_csv\n",
    "    if not df_resultats.empty:\n",
    "        nom_export = f\"predictions_{nom_fichier_csv}\"\n",
    "        df_resultats.to_csv(nom_export, index=False)\n",
    "        with output_export:\n",
    "            output_export.clear_output()\n",
    "            display(widgets.HTML(f\"<b>✅ Fichier exporté : <code>{nom_export}</code></b>\"))"
   ]
  },
  {
   "cell_type": "code",
   "execution_count": 8,
   "id": "89b47871",
   "metadata": {},
   "outputs": [],
   "source": [
    "# Association des boutons\n",
    "bouton_prediction.on_click(traiter_fichier)\n",
    "bouton_telechargement.on_click(telecharger_resultats)"
   ]
  },
  {
   "cell_type": "code",
   "execution_count": 9,
   "id": "f4193318",
   "metadata": {},
   "outputs": [
    {
     "data": {
      "application/vnd.jupyter.widget-view+json": {
       "model_id": "a1486d7e91444a46b3a3ec5ce6bfa0dd",
       "version_major": 2,
       "version_minor": 0
      },
      "text/plain": [
       "VBox(children=(VBox(children=(HTML(value=\"\\n    <div style='background:#262766;color:white;padding:15px 20px;b…"
      ]
     },
     "metadata": {},
     "output_type": "display_data"
    }
   ],
   "source": [
    "# Affichage de l'interface\n",
    "\n",
    "# Header avec boutons et titre prédiction\n",
    "header = widgets.VBox([\n",
    "    widgets.HTML(\"\"\"\n",
    "    <div style='background:#262766;color:white;padding:15px 20px;border-radius:10px;'>\n",
    "        <h2 style='margin:0;'>Application de détection de faux billets</h2>\n",
    "        <p style='margin:0;'>Uploader ici votre fichier CSV contenant les billets à vérifier. Le modèle prédira automatiquement s'ils sont vrais ou faux.</p>\n",
    "    </div>\n",
    "    \"\"\"),\n",
    "    widgets.HBox([upload_widget, bouton_prediction], layout=widgets.Layout(margin='10px 0')),\n",
    "])\n",
    "\n",
    "# Zone gauche : résultats + tableau\n",
    "zone_gauche = widgets.VBox([\n",
    "    output_resultat,\n",
    "    output_export\n",
    "], layout=widgets.Layout(width='70%', padding='10px'))\n",
    "\n",
    "# Zone droite : camembert\n",
    "zone_droite = widgets.VBox([\n",
    "    output_camembert\n",
    "], layout=widgets.Layout(width='30%', padding='20px 10px'))\n",
    "\n",
    "# Assemblage en dashboard\n",
    "corps = widgets.HBox([zone_gauche, zone_droite], layout=widgets.Layout(width='100%'))\n",
    "\n",
    "# Affichage général\n",
    "interface = widgets.VBox([header, corps, output_stats])\n",
    "display(interface)"
   ]
  }
 ],
 "metadata": {
  "kernelspec": {
   "display_name": "Python 3 (ipykernel)",
   "language": "python",
   "name": "python3"
  },
  "language_info": {
   "codemirror_mode": {
    "name": "ipython",
    "version": 3
   },
   "file_extension": ".py",
   "mimetype": "text/x-python",
   "name": "python",
   "nbconvert_exporter": "python",
   "pygments_lexer": "ipython3",
   "version": "3.12.3"
  },
  "toc": {
   "base_numbering": 1,
   "nav_menu": {},
   "number_sections": true,
   "sideBar": true,
   "skip_h1_title": false,
   "title_cell": "Table of Contents",
   "title_sidebar": "Contents",
   "toc_cell": false,
   "toc_position": {},
   "toc_section_display": true,
   "toc_window_display": false
  }
 },
 "nbformat": 4,
 "nbformat_minor": 5
}
